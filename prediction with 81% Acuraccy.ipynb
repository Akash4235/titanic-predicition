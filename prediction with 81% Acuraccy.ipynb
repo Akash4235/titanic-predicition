{
 "cells": [
  {
   "cell_type": "code",
   "execution_count": 1,
   "metadata": {},
   "outputs": [],
   "source": [
    "import pandas as pd\n",
    "import numpy as np\n",
    "import matplotlib.pyplot as plt\n",
    "import seaborn as sns\n",
    "%matplotlib inline"
   ]
  },
  {
   "cell_type": "code",
   "execution_count": 2,
   "metadata": {},
   "outputs": [],
   "source": [
    "train_data = pd.read_csv(r\"C:\\Users\\aakas\\Documents\\competetion\\titanic\\train.csv\")"
   ]
  },
  {
   "cell_type": "code",
   "execution_count": 3,
   "metadata": {},
   "outputs": [
    {
     "name": "stdout",
     "output_type": "stream",
     "text": [
      "PassengerId      0\n",
      "Survived         0\n",
      "Pclass           0\n",
      "Name             0\n",
      "Sex              0\n",
      "Age            177\n",
      "SibSp            0\n",
      "Parch            0\n",
      "Ticket           0\n",
      "Fare             0\n",
      "Cabin          687\n",
      "Embarked         2\n",
      "dtype: int64\n"
     ]
    }
   ],
   "source": [
    "# Dropping the cabin vaiables as 80% of the data is missing.\n",
    "# Embarked has 2 values missing so will drop these 2 rows.\n",
    "print(train_data.isnull().sum())"
   ]
  },
  {
   "cell_type": "code",
   "execution_count": 5,
   "metadata": {},
   "outputs": [],
   "source": [
    "train_data.drop('Cabin',axis=1,inplace=True)\n",
    "# Correlation of data\n",
    "plt.figure(figsize=(8,6))\n",
    "sns.heatmap(train_data.corr(),annot=True,cmap='rainbow',linewidths=.02,linecolor='black')\n",
    "\n",
    "# As the age column is correlated to Pclass so we will use it for filling the values of Age.\n",
    "# It is a fair relation as wealthier people are aged.\n",
    "# So we will use Pclass column to fill the Age column. Boxplot chart shows further explanation.\n",
    "\n",
    "plt.figure(figsize=(8,6))\n",
    "sns.boxplot(x='Pclass',y='Age',data=train_data)\n",
    "\n",
    "# Function to fill the missing values in Age column.\n",
    "def age_fill(i):\n",
    "    Pclass = i[0]\n",
    "    Age= i[0]\n",
    "    \n",
    "    if pd.isnull(Age):\n",
    "        if Pclass ==1:\n",
    "            return 37\n",
    "        elif Pclass ==2:\n",
    "            return 29\n",
    "        else:\n",
    "            return 23\n",
    "    else:\n",
    "        return Age\n",
    "    \n",
    "# lets apply function to the data.\n",
    "train_data['Age'] = train_data[['Age','Pclass']].apply(age_fill,axis=1)"
   ]
  },
  {
   "cell_type": "code",
   "execution_count": 6,
   "metadata": {},
   "outputs": [],
   "source": [
    "# Getting Dummy Variables/One-Hot-Encoding for the data.\n",
    "sex = pd.get_dummies(train_data['Sex'],drop_first=True)\n",
    "embark = pd.get_dummies(train_data['Embarked'],drop_first = True)\n",
    "train_data = pd.concat([sex,embark,train_data],axis=1)\n",
    "\n",
    "# We don't need column Name because the Sex and Age of the passengers are already given \n",
    "# so we don't need to collect Titles like Mr., Mrs., Miss.\n",
    "# Also, we don't need the columns Fare and Ticket\n",
    "train_data.drop(['Sex','Embarked','Name','Fare','Ticket'],axis=1,inplace=True)"
   ]
  },
  {
   "cell_type": "code",
   "execution_count": 7,
   "metadata": {},
   "outputs": [],
   "source": [
    "# Training model using Logistic Regression.\n",
    "from sklearn.model_selection import train_test_split\n",
    "\n",
    "X = train_data.drop('Survived',axis=1)\n",
    "y = train_data['Survived']\n",
    "\n",
    "X_train,X_test,y_train,y_test = train_test_split(X,y,test_size=0.2,random_state=101)"
   ]
  },
  {
   "cell_type": "code",
   "execution_count": 8,
   "metadata": {},
   "outputs": [
    {
     "data": {
      "text/plain": [
       "LogisticRegression(C=1.0, class_weight=None, dual=False, fit_intercept=True,\n",
       "                   intercept_scaling=1, l1_ratio=None, max_iter=5000,\n",
       "                   multi_class='auto', n_jobs=None, penalty='l2',\n",
       "                   random_state=None, solver='lbfgs', tol=0.0001, verbose=0,\n",
       "                   warm_start=False)"
      ]
     },
     "execution_count": 8,
     "metadata": {},
     "output_type": "execute_result"
    }
   ],
   "source": [
    "from sklearn.linear_model import LogisticRegression\n",
    "\n",
    "logR = LogisticRegression(max_iter=5000)\n",
    "logR.fit(X_train,y_train)"
   ]
  },
  {
   "cell_type": "code",
   "execution_count": 9,
   "metadata": {},
   "outputs": [],
   "source": [
    " predictions = logR.predict(X_test)"
   ]
  },
  {
   "cell_type": "code",
   "execution_count": 10,
   "metadata": {},
   "outputs": [
    {
     "name": "stdout",
     "output_type": "stream",
     "text": [
      "Accuracy Score =  81.00558659217877\n",
      "\n",
      "\n",
      "              precision    recall  f1-score   support\n",
      "\n",
      "           0       0.82      0.85      0.83        99\n",
      "           1       0.80      0.76      0.78        80\n",
      "\n",
      "    accuracy                           0.81       179\n",
      "   macro avg       0.81      0.81      0.81       179\n",
      "weighted avg       0.81      0.81      0.81       179\n",
      "\n"
     ]
    }
   ],
   "source": [
    "from sklearn.metrics import accuracy_score, classification_report\n",
    "print('Accuracy Score = ', accuracy_score(y_test,predictions)*100)\n",
    "print('\\n')\n",
    "print(classification_report(y_test,predictions))\n",
    "# Accuracy Score of 81%"
   ]
  }
 ],
 "metadata": {
  "kernelspec": {
   "display_name": "Python 3",
   "language": "python",
   "name": "python3"
  },
  "language_info": {
   "codemirror_mode": {
    "name": "ipython",
    "version": 3
   },
   "file_extension": ".py",
   "mimetype": "text/x-python",
   "name": "python",
   "nbconvert_exporter": "python",
   "pygments_lexer": "ipython3",
   "version": "3.7.6"
  }
 },
 "nbformat": 4,
 "nbformat_minor": 4
}
